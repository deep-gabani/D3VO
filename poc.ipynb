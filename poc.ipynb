{
 "cells": [
  {
   "cell_type": "markdown",
   "id": "3d1d22a2",
   "metadata": {},
   "source": [
    "# Requirements"
   ]
  },
  {
   "cell_type": "code",
   "execution_count": null,
   "id": "6e3693a5",
   "metadata": {},
   "outputs": [],
   "source": [
    "import json\n",
    "import os\n",
    "import numpy as np\n",
    "from natsort import natsorted\n",
    "\n",
    "from utility import (\n",
    "    frames_to_video,\n",
    "    read_folder_of_jsons,\n",
    "    flight_analysis,\n",
    ")"
   ]
  },
  {
   "cell_type": "markdown",
   "id": "cc6f4dbe",
   "metadata": {},
   "source": [
    "# Prepare flight data for D3VO\n",
    "\n",
    "- D3VO needs a flight video in .mp4 so we'll need to convert our frames into a video."
   ]
  },
  {
   "cell_type": "code",
   "execution_count": null,
   "id": "cfaa3794",
   "metadata": {},
   "outputs": [],
   "source": [
    "# First, download the flight data...\n",
    "!mkdir flight004_08_18_2025\n",
    "!gcloud alpha storage cp \\\n",
    "    gs://tera-earth-dev-users/bolt/18-august-2025/flight_4_8_18_in/* \\\n",
    "    flight004_08_18_2025/\n",
    "# Download the ground truth csv as well...\n",
    "!gcloud alpha storage cp \\\n",
    "    gs://tera-earth-dev-users/bolt/18-august-2025/flight004_08_18_2025_ground_truth.csv \\\n",
    "    flight004_08_18_2025_ground_truth.csv"
   ]
  },
  {
   "cell_type": "code",
   "execution_count": null,
   "id": "87277cc0",
   "metadata": {},
   "outputs": [],
   "source": [
    "# stitch frames into a video...\n",
    "flight = \"flight004_08_18_2025\"\n",
    "jpg_files = natsorted([f\"{flight}/{f}\" for f in os.listdir(flight) if f.endswith(\".jpg\")])\n",
    "\n",
    "frames_to_video(jpg_files, f\"{flight}.mp4\")"
   ]
  },
  {
   "cell_type": "code",
   "execution_count": null,
   "id": "e661d9dc",
   "metadata": {},
   "outputs": [],
   "source": [
    "command = f\"\"\"python3 src/main.py \\\\\n",
    "    \"{flight}.mp4\" \\\\\n",
    "    \"weights/\" \\\\\n",
    "    --save \"poses--{flight}.npy\"\n",
    "\"\"\"\n",
    "print(command)\n",
    "# Now, run this command in the terminal..."
   ]
  },
  {
   "cell_type": "markdown",
   "id": "55e64184",
   "metadata": {},
   "source": [
    "# Evaluation"
   ]
  },
  {
   "cell_type": "code",
   "execution_count": null,
   "id": "8c1265df",
   "metadata": {},
   "outputs": [],
   "source": [
    "def write_pred_poses_to_jsons(poses, timestamps, output_dir: str):\n",
    "    \"\"\"Write predicted poses to JSON files as tera-system1 convention just so\n",
    "    it's easy to compare.\"\"\"\n",
    "    os.makedirs(output_dir, exist_ok=True)\n",
    "    for i, pose in enumerate(poses):\n",
    "        pose_xyz = pose[:3, 3]\n",
    "        x, y, z = pose_xyz[0], pose_xyz[1], pose_xyz[2]\n",
    "        yaw = pose[3, 3]\n",
    "        \n",
    "        pred_frame_filepath = os.path.join(output_dir, f\"pred{i:05d}.json\")\n",
    "        with open(pred_frame_filepath, \"w\") as f:\n",
    "            json.dump({\n",
    "                \"frame_filename\": f\"pred{i:05d}.png\",\n",
    "                \"timestamp\": timestamps[i],\n",
    "                \"x\": x,\n",
    "                \"y\": y,\n",
    "                \"z\": z,\n",
    "                \"p\": yaw,\n",
    "            }, f, indent=4)"
   ]
  },
  {
   "cell_type": "code",
   "execution_count": null,
   "id": "71b08d11",
   "metadata": {},
   "outputs": [],
   "source": [
    "# Write predicted poses to JSON files...\n",
    "pred_poses = np.load(f\"poses--{flight}.npy\")\n",
    "\n",
    "# fetch timestamps from input frames...\n",
    "timestamps = [d[1][\"timestamp\"] for d in read_folder_of_jsons(flight)][:len(pred_poses)]\n",
    "write_pred_poses_to_jsons(\n",
    "    pred_poses,\n",
    "    timestamps,\n",
    "    f\"{flight}--pred\"\n",
    ")"
   ]
  },
  {
   "cell_type": "code",
   "execution_count": null,
   "id": "10af271c",
   "metadata": {},
   "outputs": [],
   "source": [
    "# Plot predictions & calculate KITTI metrics...\n",
    "flight_analysis(\n",
    "    gt_path=f\"{flight}_ground_truth.csv\",\n",
    "    pred_folder=f\"{flight}--pred\",\n",
    "    output_path=f\"{flight}-pred-analysis/\",\n",
    "    save_files=True,\n",
    ")"
   ]
  }
 ],
 "metadata": {
  "kernelspec": {
   "display_name": "base",
   "language": "python",
   "name": "python3"
  },
  "language_info": {
   "codemirror_mode": {
    "name": "ipython",
    "version": 3
   },
   "file_extension": ".py",
   "mimetype": "text/x-python",
   "name": "python",
   "nbconvert_exporter": "python",
   "pygments_lexer": "ipython3",
   "version": "3.12.7"
  }
 },
 "nbformat": 4,
 "nbformat_minor": 5
}
